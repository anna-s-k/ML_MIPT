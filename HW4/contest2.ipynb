{
 "cells": [
  {
   "cell_type": "code",
   "execution_count": 2,
   "metadata": {
    "collapsed": true
   },
   "outputs": [],
   "source": [
    "import pandas as pd\n",
    "import numpy as np\n",
    "import re\n",
    "from collections import Counter"
   ]
  },
  {
   "cell_type": "code",
   "execution_count": 3,
   "metadata": {
    "collapsed": false,
    "scrolled": false
   },
   "outputs": [],
   "source": [
    "with open('task2_lemmas_train') as train_file:\n",
    "    Id = np.arange(1, 118641)\n",
    "    X = np.array([None] * 118640)\n",
    "    y = np.array([None] * 118640)\n",
    "    n = np.array([None] * 118640)\n",
    "    bad = 0\n",
    "    for ind, line in enumerate(train_file):\n",
    "        if ind == 0:\n",
    "            continue\n",
    "        line = line.strip()\n",
    "        l = re.split('[,+]', line)\n",
    "        X[ind - 1] = l[1]\n",
    "        y[ind - 1] = l[2]\n",
    "        n[ind - 1] = l[3]\n",
    "        if len(l) >= 5:\n",
    "            bad += 1"
   ]
  },
  {
   "cell_type": "code",
   "execution_count": 4,
   "metadata": {
    "collapsed": false
   },
   "outputs": [],
   "source": [
    "train = pd.DataFrame({'Id': Id, 'X': X, 'y': y, 'n': n})"
   ]
  },
  {
   "cell_type": "code",
   "execution_count": 5,
   "metadata": {
    "collapsed": false
   },
   "outputs": [
    {
     "data": {
      "text/html": [
       "<div>\n",
       "<table border=\"1\" class=\"dataframe\">\n",
       "  <thead>\n",
       "    <tr style=\"text-align: right;\">\n",
       "      <th></th>\n",
       "      <th>Id</th>\n",
       "      <th>X</th>\n",
       "      <th>n</th>\n",
       "      <th>y</th>\n",
       "    </tr>\n",
       "  </thead>\n",
       "  <tbody>\n",
       "    <tr>\n",
       "      <th>0</th>\n",
       "      <td>1</td>\n",
       "      <td>vergognerete</td>\n",
       "      <td>V</td>\n",
       "      <td>vergognare</td>\n",
       "    </tr>\n",
       "    <tr>\n",
       "      <th>1</th>\n",
       "      <td>2</td>\n",
       "      <td>amnistiavate</td>\n",
       "      <td>V</td>\n",
       "      <td>amnistiare</td>\n",
       "    </tr>\n",
       "    <tr>\n",
       "      <th>2</th>\n",
       "      <td>3</td>\n",
       "      <td>menomazione</td>\n",
       "      <td>N</td>\n",
       "      <td>menomazione</td>\n",
       "    </tr>\n",
       "    <tr>\n",
       "      <th>3</th>\n",
       "      <td>4</td>\n",
       "      <td>sfaldavamo</td>\n",
       "      <td>V</td>\n",
       "      <td>sfaldare</td>\n",
       "    </tr>\n",
       "    <tr>\n",
       "      <th>4</th>\n",
       "      <td>5</td>\n",
       "      <td>sfodererei</td>\n",
       "      <td>V</td>\n",
       "      <td>sfoderare</td>\n",
       "    </tr>\n",
       "  </tbody>\n",
       "</table>\n",
       "</div>"
      ],
      "text/plain": [
       "   Id             X  n            y\n",
       "0   1  vergognerete  V   vergognare\n",
       "1   2  amnistiavate  V   amnistiare\n",
       "2   3   menomazione  N  menomazione\n",
       "3   4    sfaldavamo  V     sfaldare\n",
       "4   5    sfodererei  V    sfoderare"
      ]
     },
     "execution_count": 5,
     "metadata": {},
     "output_type": "execute_result"
    }
   ],
   "source": [
    "train.head()"
   ]
  },
  {
   "cell_type": "code",
   "execution_count": 6,
   "metadata": {
    "collapsed": false
   },
   "outputs": [],
   "source": [
    "test = pd.read_csv('task2_lemmas_test')"
   ]
  },
  {
   "cell_type": "code",
   "execution_count": 7,
   "metadata": {
    "collapsed": false
   },
   "outputs": [],
   "source": [
    "submission = pd.read_csv('task2_lemmas_sample_submission')"
   ]
  },
  {
   "cell_type": "code",
   "execution_count": 8,
   "metadata": {
    "collapsed": false
   },
   "outputs": [
    {
     "data": {
      "text/html": [
       "<div>\n",
       "<table border=\"1\" class=\"dataframe\">\n",
       "  <thead>\n",
       "    <tr style=\"text-align: right;\">\n",
       "      <th></th>\n",
       "      <th>Id</th>\n",
       "      <th>Category</th>\n",
       "    </tr>\n",
       "  </thead>\n",
       "  <tbody>\n",
       "    <tr>\n",
       "      <th>0</th>\n",
       "      <td>1</td>\n",
       "      <td>recidivare+V</td>\n",
       "    </tr>\n",
       "    <tr>\n",
       "      <th>1</th>\n",
       "      <td>2</td>\n",
       "      <td>recidivare+V</td>\n",
       "    </tr>\n",
       "    <tr>\n",
       "      <th>2</th>\n",
       "      <td>3</td>\n",
       "      <td>recidivare+V</td>\n",
       "    </tr>\n",
       "    <tr>\n",
       "      <th>3</th>\n",
       "      <td>4</td>\n",
       "      <td>recidivare+V</td>\n",
       "    </tr>\n",
       "    <tr>\n",
       "      <th>4</th>\n",
       "      <td>5</td>\n",
       "      <td>recidivare+V</td>\n",
       "    </tr>\n",
       "  </tbody>\n",
       "</table>\n",
       "</div>"
      ],
      "text/plain": [
       "   Id      Category\n",
       "0   1  recidivare+V\n",
       "1   2  recidivare+V\n",
       "2   3  recidivare+V\n",
       "3   4  recidivare+V\n",
       "4   5  recidivare+V"
      ]
     },
     "execution_count": 8,
     "metadata": {},
     "output_type": "execute_result"
    }
   ],
   "source": [
    "submission.head()"
   ]
  },
  {
   "cell_type": "code",
   "execution_count": 9,
   "metadata": {
    "collapsed": false
   },
   "outputs": [],
   "source": [
    "def common_prefix(w):\n",
    "    i = 0\n",
    "    min_len = min(len(w[0]), len(w[1]))\n",
    "    while i < min_len and w[0][i] == w[1][i]:\n",
    "        i += 1\n",
    "    return w[0][:i]\n",
    "\n",
    "def ending(w):\n",
    "    i = 0\n",
    "    min_len = min(len(w[0]), len(w[1]))\n",
    "    while i < min_len and w[0][i] == w[1][i]:\n",
    "        i += 1\n",
    "    return w[0][i:]"
   ]
  },
  {
   "cell_type": "code",
   "execution_count": 11,
   "metadata": {
    "collapsed": false
   },
   "outputs": [],
   "source": [
    "train['common'] = list(map(common_prefix, np.array(train[['X', 'y']]))) "
   ]
  },
  {
   "cell_type": "code",
   "execution_count": 12,
   "metadata": {
    "collapsed": false
   },
   "outputs": [],
   "source": [
    "train['ending'] = list(map(ending, np.array(train[['X', 'y']])))\n",
    "train['true_ending'] = list(map(ending, np.array(train[['y', 'X']])))"
   ]
  },
  {
   "cell_type": "code",
   "execution_count": 13,
   "metadata": {
    "collapsed": false
   },
   "outputs": [],
   "source": [
    "verb_endings = list(dict(Counter(train.loc[train['n'] == 'V']['ending']).most_common()).keys())"
   ]
  },
  {
   "cell_type": "code",
   "execution_count": 14,
   "metadata": {
    "collapsed": false
   },
   "outputs": [],
   "source": [
    "max_len_of_end = len(max(verb_endings, key=len))"
   ]
  },
  {
   "cell_type": "markdown",
   "metadata": {},
   "source": [
    "# Существительные"
   ]
  },
  {
   "cell_type": "code",
   "execution_count": 15,
   "metadata": {
    "collapsed": false
   },
   "outputs": [
    {
     "data": {
      "text/plain": [
       "0.080984490896830755"
      ]
     },
     "execution_count": 15,
     "metadata": {},
     "output_type": "execute_result"
    }
   ],
   "source": [
    "sum(train['n'] == 'N') / train['n'].size"
   ]
  },
  {
   "cell_type": "markdown",
   "metadata": {},
   "source": [
    "# Прилагательные"
   ]
  },
  {
   "cell_type": "code",
   "execution_count": 16,
   "metadata": {
    "collapsed": false
   },
   "outputs": [
    {
     "data": {
      "text/plain": [
       "0.11097437626432906"
      ]
     },
     "execution_count": 16,
     "metadata": {},
     "output_type": "execute_result"
    }
   ],
   "source": [
    "sum(train['n'] == 'A') / train['n'].size"
   ]
  },
  {
   "cell_type": "markdown",
   "metadata": {},
   "source": [
    "### Видим, что глаголов больше всего. Поэтому будет определять\n",
    "1. Глагол \\ не глагол\n",
    "2. Прилагательное \\ не прилагательное"
   ]
  },
  {
   "cell_type": "code",
   "execution_count": 17,
   "metadata": {
    "collapsed": true
   },
   "outputs": [],
   "source": [
    "from sklearn.feature_extraction.text import CountVectorizer\n",
    "from sklearn.linear_model import LogisticRegression\n",
    "from sklearn.model_selection import train_test_split\n",
    "from sklearn.metrics import accuracy_score"
   ]
  },
  {
   "cell_type": "markdown",
   "metadata": {},
   "source": [
    "НА ВСЕЙ ВЫБОРКЕ"
   ]
  },
  {
   "cell_type": "code",
   "execution_count": 19,
   "metadata": {
    "collapsed": false
   },
   "outputs": [],
   "source": [
    "all_data = pd.concat([train['X'], test['X']])"
   ]
  },
  {
   "cell_type": "code",
   "execution_count": 20,
   "metadata": {
    "collapsed": false
   },
   "outputs": [
    {
     "data": {
      "text/plain": [
       "<148301x91171 sparse matrix of type '<class 'numpy.int64'>'\n",
       "\twith 9110064 stored elements in Compressed Sparse Row format>"
      ]
     },
     "execution_count": 20,
     "metadata": {},
     "output_type": "execute_result"
    }
   ],
   "source": [
    "vectorizer = CountVectorizer(ngram_range=(1,9), min_df=10, analyzer='char_wb')\n",
    "sparse_matrix = vectorizer.fit_transform(all_data)\n",
    "sparse_matrix"
   ]
  },
  {
   "cell_type": "code",
   "execution_count": 21,
   "metadata": {
    "collapsed": true
   },
   "outputs": [],
   "source": [
    "X_train = sparse_matrix[:train.shape[0]]\n",
    "y_train = train['n']\n",
    "X_test = sparse_matrix[train.shape[0]:]"
   ]
  },
  {
   "cell_type": "code",
   "execution_count": 22,
   "metadata": {
    "collapsed": false
   },
   "outputs": [],
   "source": [
    "verb_model = LogisticRegression()\n",
    "verb_model.fit(X_train, y_train)\n",
    "verb_pred = verb_model.predict(X_test)"
   ]
  },
  {
   "cell_type": "code",
   "execution_count": 23,
   "metadata": {
    "collapsed": false
   },
   "outputs": [],
   "source": [
    "train['len_of_false_ending'] = list(map(len, train['ending']))"
   ]
  },
  {
   "cell_type": "markdown",
   "metadata": {},
   "source": [
    "Построим модели для каждой части речи"
   ]
  },
  {
   "cell_type": "code",
   "execution_count": 24,
   "metadata": {
    "collapsed": false
   },
   "outputs": [],
   "source": [
    "verbs_X_test = X_test[verb_pred == 'V']\n",
    "nouns_X_test = X_test[verb_pred == 'N']\n",
    "adv_X_test = X_test[verb_pred == 'A']"
   ]
  },
  {
   "cell_type": "code",
   "execution_count": 25,
   "metadata": {
    "collapsed": false
   },
   "outputs": [],
   "source": [
    "verbs_X_train = X_train[np.array(train['n'] == 'V')]\n",
    "verbs_y_cut_train = train.loc[train['n'] == 'V']['len_of_false_ending']\n",
    "verbs_y_end_train = train.loc[train['n'] == 'V']['true_ending']\n",
    "noun_X_train = X_train[np.array(train['n'] == 'N')]\n",
    "noun_y_cut_train = train.loc[train['n'] == 'N']['len_of_false_ending']\n",
    "noun_y_end_train = train.loc[train['n'] == 'N']['true_ending']\n",
    "adv_X_train = X_train[np.array(train['n'] == 'A')]\n",
    "adv_y_cut_train = train.loc[train['n'] == 'A']['len_of_false_ending']\n",
    "adv_y_end_train = train.loc[train['n'] == 'A']['true_ending']"
   ]
  },
  {
   "cell_type": "markdown",
   "metadata": {},
   "source": [
    "### Предскажем  глаголы"
   ]
  },
  {
   "cell_type": "code",
   "execution_count": 26,
   "metadata": {
    "collapsed": false
   },
   "outputs": [],
   "source": [
    "verb_cut_model = LogisticRegression()\n",
    "verb_cut_model.fit(verbs_X_train, verbs_y_cut_train)\n",
    "verb_cut_pred = verb_cut_model.predict(verbs_X_test)"
   ]
  },
  {
   "cell_type": "code",
   "execution_count": 27,
   "metadata": {
    "collapsed": false
   },
   "outputs": [],
   "source": [
    "verb_add_model = LogisticRegression()\n",
    "verb_add_model.fit(verbs_X_train, verbs_y_end_train)\n",
    "verb_add_pred = verb_add_model.predict(verbs_X_test)"
   ]
  },
  {
   "cell_type": "markdown",
   "metadata": {},
   "source": [
    "Существительные"
   ]
  },
  {
   "cell_type": "code",
   "execution_count": 30,
   "metadata": {
    "collapsed": false
   },
   "outputs": [],
   "source": [
    "noun_cut_model = LogisticRegression()\n",
    "noun_cut_model.fit(noun_X_train, noun_y_cut_train)\n",
    "noun_cut_pred = noun_cut_model.predict(nouns_X_test)"
   ]
  },
  {
   "cell_type": "code",
   "execution_count": 32,
   "metadata": {
    "collapsed": false
   },
   "outputs": [],
   "source": [
    "noun_add_model = LogisticRegression()\n",
    "noun_add_model.fit(noun_X_train, noun_y_end_train)\n",
    "noun_add_pred = noun_add_model.predict(nouns_X_test)"
   ]
  },
  {
   "cell_type": "markdown",
   "metadata": {},
   "source": [
    "Прилагательные"
   ]
  },
  {
   "cell_type": "code",
   "execution_count": 33,
   "metadata": {
    "collapsed": false
   },
   "outputs": [],
   "source": [
    "adv_cut_model = LogisticRegression()\n",
    "adv_cut_model.fit(adv_X_train, adv_y_cut_train)\n",
    "adv_cut_pred = adv_cut_model.predict(adv_X_test)"
   ]
  },
  {
   "cell_type": "code",
   "execution_count": 34,
   "metadata": {
    "collapsed": false
   },
   "outputs": [],
   "source": [
    "adv_add_model = LogisticRegression()\n",
    "adv_add_model.fit(adv_X_train, adv_y_end_train)\n",
    "adv_add_pred = adv_add_model.predict(adv_X_test)"
   ]
  },
  {
   "cell_type": "markdown",
   "metadata": {},
   "source": [
    "Предскажем часть слова, которую нужно отрезать"
   ]
  },
  {
   "cell_type": "code",
   "execution_count": 54,
   "metadata": {
    "collapsed": false
   },
   "outputs": [],
   "source": [
    "def f(cut, add, words, ch):\n",
    "    ans = [w[:-1*c] + a + '+' + ch for c, a, w in zip(cut, add, words)]\n",
    "    return ans"
   ]
  },
  {
   "cell_type": "code",
   "execution_count": 47,
   "metadata": {
    "collapsed": false
   },
   "outputs": [
    {
     "data": {
      "text/plain": [
       "(24282,)"
      ]
     },
     "execution_count": 47,
     "metadata": {},
     "output_type": "execute_result"
    }
   ],
   "source": [
    "verb_cut_pred.shape"
   ]
  },
  {
   "cell_type": "code",
   "execution_count": 49,
   "metadata": {
    "collapsed": false
   },
   "outputs": [
    {
     "data": {
      "text/plain": [
       "(24282,)"
      ]
     },
     "execution_count": 49,
     "metadata": {},
     "output_type": "execute_result"
    }
   ],
   "source": [
    "verb_add_pred.shape"
   ]
  },
  {
   "cell_type": "code",
   "execution_count": 50,
   "metadata": {
    "collapsed": false
   },
   "outputs": [
    {
     "data": {
      "text/plain": [
       "(24282,)"
      ]
     },
     "execution_count": 50,
     "metadata": {},
     "output_type": "execute_result"
    }
   ],
   "source": [
    "test.loc[verb_pred == 'V']['X'].shape"
   ]
  },
  {
   "cell_type": "code",
   "execution_count": 51,
   "metadata": {
    "collapsed": false
   },
   "outputs": [
    {
     "data": {
      "text/plain": [
       "(24282, 2)"
      ]
     },
     "execution_count": 51,
     "metadata": {},
     "output_type": "execute_result"
    }
   ],
   "source": [
    "submission.loc[verb_pred == 'V'].shape"
   ]
  },
  {
   "cell_type": "code",
   "execution_count": 55,
   "metadata": {
    "collapsed": false
   },
   "outputs": [],
   "source": [
    "submission.loc[verb_pred == 'V', 'Category'] = f(verb_cut_pred, verb_add_pred, test.loc[verb_pred == 'V']['X'], 'V')"
   ]
  },
  {
   "cell_type": "code",
   "execution_count": 58,
   "metadata": {
    "collapsed": true
   },
   "outputs": [],
   "source": [
    "submission.loc[verb_pred == 'N', 'Category'] = f(noun_cut_pred, noun_add_pred, test.loc[verb_pred == 'N']['X'], 'N')"
   ]
  },
  {
   "cell_type": "code",
   "execution_count": 59,
   "metadata": {
    "collapsed": true
   },
   "outputs": [],
   "source": [
    "submission.loc[verb_pred == 'A', 'Category'] = f(adv_cut_pred, adv_add_pred, test.loc[verb_pred == 'A']['X'], 'A')"
   ]
  },
  {
   "cell_type": "code",
   "execution_count": 60,
   "metadata": {
    "collapsed": false,
    "scrolled": true
   },
   "outputs": [
    {
     "data": {
      "text/html": [
       "<div>\n",
       "<table border=\"1\" class=\"dataframe\">\n",
       "  <thead>\n",
       "    <tr style=\"text-align: right;\">\n",
       "      <th></th>\n",
       "      <th>Id</th>\n",
       "      <th>Category</th>\n",
       "    </tr>\n",
       "  </thead>\n",
       "  <tbody>\n",
       "    <tr>\n",
       "      <th>0</th>\n",
       "      <td>1</td>\n",
       "      <td>gettonare+V</td>\n",
       "    </tr>\n",
       "    <tr>\n",
       "      <th>1</th>\n",
       "      <td>2</td>\n",
       "      <td>incidentale+A</td>\n",
       "    </tr>\n",
       "    <tr>\n",
       "      <th>2</th>\n",
       "      <td>3</td>\n",
       "      <td>involtare+V</td>\n",
       "    </tr>\n",
       "    <tr>\n",
       "      <th>3</th>\n",
       "      <td>4</td>\n",
       "      <td>lievo+N</td>\n",
       "    </tr>\n",
       "    <tr>\n",
       "      <th>4</th>\n",
       "      <td>5</td>\n",
       "      <td>comunistizzare+V</td>\n",
       "    </tr>\n",
       "    <tr>\n",
       "      <th>5</th>\n",
       "      <td>6</td>\n",
       "      <td>vidimare+V</td>\n",
       "    </tr>\n",
       "    <tr>\n",
       "      <th>6</th>\n",
       "      <td>7</td>\n",
       "      <td>imbrodre+V</td>\n",
       "    </tr>\n",
       "    <tr>\n",
       "      <th>7</th>\n",
       "      <td>8</td>\n",
       "      <td>e+V</td>\n",
       "    </tr>\n",
       "    <tr>\n",
       "      <th>8</th>\n",
       "      <td>9</td>\n",
       "      <td>cifrare+V</td>\n",
       "    </tr>\n",
       "    <tr>\n",
       "      <th>9</th>\n",
       "      <td>10</td>\n",
       "      <td>compassare+V</td>\n",
       "    </tr>\n",
       "    <tr>\n",
       "      <th>10</th>\n",
       "      <td>11</td>\n",
       "      <td>cuciare+V</td>\n",
       "    </tr>\n",
       "    <tr>\n",
       "      <th>11</th>\n",
       "      <td>12</td>\n",
       "      <td>snobbare+V</td>\n",
       "    </tr>\n",
       "    <tr>\n",
       "      <th>12</th>\n",
       "      <td>13</td>\n",
       "      <td>tessere+V</td>\n",
       "    </tr>\n",
       "    <tr>\n",
       "      <th>13</th>\n",
       "      <td>14</td>\n",
       "      <td>+V</td>\n",
       "    </tr>\n",
       "    <tr>\n",
       "      <th>14</th>\n",
       "      <td>15</td>\n",
       "      <td>somatizzare+V</td>\n",
       "    </tr>\n",
       "    <tr>\n",
       "      <th>15</th>\n",
       "      <td>16</td>\n",
       "      <td>impoverimento+N</td>\n",
       "    </tr>\n",
       "    <tr>\n",
       "      <th>16</th>\n",
       "      <td>17</td>\n",
       "      <td>smungere+V</td>\n",
       "    </tr>\n",
       "    <tr>\n",
       "      <th>17</th>\n",
       "      <td>18</td>\n",
       "      <td>abbuffare+V</td>\n",
       "    </tr>\n",
       "    <tr>\n",
       "      <th>18</th>\n",
       "      <td>19</td>\n",
       "      <td>meravigliare+V</td>\n",
       "    </tr>\n",
       "    <tr>\n",
       "      <th>19</th>\n",
       "      <td>20</td>\n",
       "      <td>risucchiare+V</td>\n",
       "    </tr>\n",
       "    <tr>\n",
       "      <th>20</th>\n",
       "      <td>21</td>\n",
       "      <td>+A</td>\n",
       "    </tr>\n",
       "    <tr>\n",
       "      <th>21</th>\n",
       "      <td>22</td>\n",
       "      <td>timido+A</td>\n",
       "    </tr>\n",
       "    <tr>\n",
       "      <th>22</th>\n",
       "      <td>23</td>\n",
       "      <td>nauseare+V</td>\n",
       "    </tr>\n",
       "    <tr>\n",
       "      <th>23</th>\n",
       "      <td>24</td>\n",
       "      <td>ingozzare+V</td>\n",
       "    </tr>\n",
       "    <tr>\n",
       "      <th>24</th>\n",
       "      <td>25</td>\n",
       "      <td>stimare+V</td>\n",
       "    </tr>\n",
       "    <tr>\n",
       "      <th>25</th>\n",
       "      <td>26</td>\n",
       "      <td>relazionare+V</td>\n",
       "    </tr>\n",
       "    <tr>\n",
       "      <th>26</th>\n",
       "      <td>27</td>\n",
       "      <td>sorridere+V</td>\n",
       "    </tr>\n",
       "    <tr>\n",
       "      <th>27</th>\n",
       "      <td>28</td>\n",
       "      <td>illuminare+V</td>\n",
       "    </tr>\n",
       "    <tr>\n",
       "      <th>28</th>\n",
       "      <td>29</td>\n",
       "      <td>concitare+V</td>\n",
       "    </tr>\n",
       "    <tr>\n",
       "      <th>29</th>\n",
       "      <td>30</td>\n",
       "      <td>dissecare+V</td>\n",
       "    </tr>\n",
       "    <tr>\n",
       "      <th>...</th>\n",
       "      <td>...</td>\n",
       "      <td>...</td>\n",
       "    </tr>\n",
       "    <tr>\n",
       "      <th>29631</th>\n",
       "      <td>29632</td>\n",
       "      <td>diagnosticare+V</td>\n",
       "    </tr>\n",
       "    <tr>\n",
       "      <th>29632</th>\n",
       "      <td>29633</td>\n",
       "      <td>condiscendere+V</td>\n",
       "    </tr>\n",
       "    <tr>\n",
       "      <th>29633</th>\n",
       "      <td>29634</td>\n",
       "      <td>+N</td>\n",
       "    </tr>\n",
       "    <tr>\n",
       "      <th>29634</th>\n",
       "      <td>29635</td>\n",
       "      <td>ricouocere+V</td>\n",
       "    </tr>\n",
       "    <tr>\n",
       "      <th>29635</th>\n",
       "      <td>29636</td>\n",
       "      <td>ammainare+V</td>\n",
       "    </tr>\n",
       "    <tr>\n",
       "      <th>29636</th>\n",
       "      <td>29637</td>\n",
       "      <td>azzoppare+V</td>\n",
       "    </tr>\n",
       "    <tr>\n",
       "      <th>29637</th>\n",
       "      <td>29638</td>\n",
       "      <td>scoppiettare+V</td>\n",
       "    </tr>\n",
       "    <tr>\n",
       "      <th>29638</th>\n",
       "      <td>29639</td>\n",
       "      <td>disattrezzare+V</td>\n",
       "    </tr>\n",
       "    <tr>\n",
       "      <th>29639</th>\n",
       "      <td>29640</td>\n",
       "      <td>afferrare+V</td>\n",
       "    </tr>\n",
       "    <tr>\n",
       "      <th>29640</th>\n",
       "      <td>29641</td>\n",
       "      <td>sfibrare+V</td>\n",
       "    </tr>\n",
       "    <tr>\n",
       "      <th>29641</th>\n",
       "      <td>29642</td>\n",
       "      <td>sgranchire+V</td>\n",
       "    </tr>\n",
       "    <tr>\n",
       "      <th>29642</th>\n",
       "      <td>29643</td>\n",
       "      <td>+N</td>\n",
       "    </tr>\n",
       "    <tr>\n",
       "      <th>29643</th>\n",
       "      <td>29644</td>\n",
       "      <td>esecrare+V</td>\n",
       "    </tr>\n",
       "    <tr>\n",
       "      <th>29644</th>\n",
       "      <td>29645</td>\n",
       "      <td>inghirlandre+V</td>\n",
       "    </tr>\n",
       "    <tr>\n",
       "      <th>29645</th>\n",
       "      <td>29646</td>\n",
       "      <td>damaschinare+V</td>\n",
       "    </tr>\n",
       "    <tr>\n",
       "      <th>29646</th>\n",
       "      <td>29647</td>\n",
       "      <td>relazionare+V</td>\n",
       "    </tr>\n",
       "    <tr>\n",
       "      <th>29647</th>\n",
       "      <td>29648</td>\n",
       "      <td>cercare+V</td>\n",
       "    </tr>\n",
       "    <tr>\n",
       "      <th>29648</th>\n",
       "      <td>29649</td>\n",
       "      <td>ritorcere+V</td>\n",
       "    </tr>\n",
       "    <tr>\n",
       "      <th>29649</th>\n",
       "      <td>29650</td>\n",
       "      <td>comunicazione+N</td>\n",
       "    </tr>\n",
       "    <tr>\n",
       "      <th>29650</th>\n",
       "      <td>29651</td>\n",
       "      <td>macchinare+V</td>\n",
       "    </tr>\n",
       "    <tr>\n",
       "      <th>29651</th>\n",
       "      <td>29652</td>\n",
       "      <td>murare+V</td>\n",
       "    </tr>\n",
       "    <tr>\n",
       "      <th>29652</th>\n",
       "      <td>29653</td>\n",
       "      <td>rapprendere+V</td>\n",
       "    </tr>\n",
       "    <tr>\n",
       "      <th>29653</th>\n",
       "      <td>29654</td>\n",
       "      <td>inorgoglire+V</td>\n",
       "    </tr>\n",
       "    <tr>\n",
       "      <th>29654</th>\n",
       "      <td>29655</td>\n",
       "      <td>preconoscere+V</td>\n",
       "    </tr>\n",
       "    <tr>\n",
       "      <th>29655</th>\n",
       "      <td>29656</td>\n",
       "      <td>comprovare+V</td>\n",
       "    </tr>\n",
       "    <tr>\n",
       "      <th>29656</th>\n",
       "      <td>29657</td>\n",
       "      <td>disoccupazione+N</td>\n",
       "    </tr>\n",
       "    <tr>\n",
       "      <th>29657</th>\n",
       "      <td>29658</td>\n",
       "      <td>preoccupare+V</td>\n",
       "    </tr>\n",
       "    <tr>\n",
       "      <th>29658</th>\n",
       "      <td>29659</td>\n",
       "      <td>spazzolare+V</td>\n",
       "    </tr>\n",
       "    <tr>\n",
       "      <th>29659</th>\n",
       "      <td>29660</td>\n",
       "      <td>stuzzicare+V</td>\n",
       "    </tr>\n",
       "    <tr>\n",
       "      <th>29660</th>\n",
       "      <td>29661</td>\n",
       "      <td>impiagare+V</td>\n",
       "    </tr>\n",
       "  </tbody>\n",
       "</table>\n",
       "<p>29661 rows × 2 columns</p>\n",
       "</div>"
      ],
      "text/plain": [
       "          Id          Category\n",
       "0          1       gettonare+V\n",
       "1          2     incidentale+A\n",
       "2          3       involtare+V\n",
       "3          4           lievo+N\n",
       "4          5  comunistizzare+V\n",
       "5          6        vidimare+V\n",
       "6          7        imbrodre+V\n",
       "7          8               e+V\n",
       "8          9         cifrare+V\n",
       "9         10      compassare+V\n",
       "10        11         cuciare+V\n",
       "11        12        snobbare+V\n",
       "12        13         tessere+V\n",
       "13        14                +V\n",
       "14        15     somatizzare+V\n",
       "15        16   impoverimento+N\n",
       "16        17        smungere+V\n",
       "17        18       abbuffare+V\n",
       "18        19    meravigliare+V\n",
       "19        20     risucchiare+V\n",
       "20        21                +A\n",
       "21        22          timido+A\n",
       "22        23        nauseare+V\n",
       "23        24       ingozzare+V\n",
       "24        25         stimare+V\n",
       "25        26     relazionare+V\n",
       "26        27       sorridere+V\n",
       "27        28      illuminare+V\n",
       "28        29       concitare+V\n",
       "29        30       dissecare+V\n",
       "...      ...               ...\n",
       "29631  29632   diagnosticare+V\n",
       "29632  29633   condiscendere+V\n",
       "29633  29634                +N\n",
       "29634  29635      ricouocere+V\n",
       "29635  29636       ammainare+V\n",
       "29636  29637       azzoppare+V\n",
       "29637  29638    scoppiettare+V\n",
       "29638  29639   disattrezzare+V\n",
       "29639  29640       afferrare+V\n",
       "29640  29641        sfibrare+V\n",
       "29641  29642      sgranchire+V\n",
       "29642  29643                +N\n",
       "29643  29644        esecrare+V\n",
       "29644  29645    inghirlandre+V\n",
       "29645  29646    damaschinare+V\n",
       "29646  29647     relazionare+V\n",
       "29647  29648         cercare+V\n",
       "29648  29649       ritorcere+V\n",
       "29649  29650   comunicazione+N\n",
       "29650  29651      macchinare+V\n",
       "29651  29652          murare+V\n",
       "29652  29653     rapprendere+V\n",
       "29653  29654     inorgoglire+V\n",
       "29654  29655    preconoscere+V\n",
       "29655  29656      comprovare+V\n",
       "29656  29657  disoccupazione+N\n",
       "29657  29658     preoccupare+V\n",
       "29658  29659      spazzolare+V\n",
       "29659  29660      stuzzicare+V\n",
       "29660  29661       impiagare+V\n",
       "\n",
       "[29661 rows x 2 columns]"
      ]
     },
     "execution_count": 60,
     "metadata": {},
     "output_type": "execute_result"
    }
   ],
   "source": [
    "submission"
   ]
  },
  {
   "cell_type": "code",
   "execution_count": 61,
   "metadata": {
    "collapsed": true
   },
   "outputs": [],
   "source": [
    "submission.to_csv(\"contest2.tsv\", sep=',', index=False)"
   ]
  }
 ],
 "metadata": {
  "kernelspec": {
   "display_name": "Python [conda root]",
   "language": "python",
   "name": "conda-root-py"
  },
  "language_info": {
   "codemirror_mode": {
    "name": "ipython",
    "version": 3
   },
   "file_extension": ".py",
   "mimetype": "text/x-python",
   "name": "python",
   "nbconvert_exporter": "python",
   "pygments_lexer": "ipython3",
   "version": "3.5.3"
  }
 },
 "nbformat": 4,
 "nbformat_minor": 1
}
